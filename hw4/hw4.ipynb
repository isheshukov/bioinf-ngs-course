{
 "cells": [
  {
   "cell_type": "code",
   "execution_count": 2,
   "metadata": {},
   "outputs": [],
   "source": [
    "import pysam\n",
    "from tqdm import tqdm\n",
    "from itertools import islice\n",
    "import pandas as pd\n",
    "from IPython.display import display, HTML"
   ]
  },
  {
   "cell_type": "markdown",
   "metadata": {},
   "source": [
    "```\n",
    "$ conda run bwa index MG1655-K12.first400K.fasta\n",
    "$ conda run bwa mem data/MG1655-K12.first400K.fasta (zcat ./data/ecoli_400K_err_1.fastq.gz |\n",
    "psub) (zcat ./data/ecoli_400K_err_2.fastq.gz | psub) > ecoli.sam\n",
    "$ conda run samtools sort -o ecoli.bam ecoli.sam\n",
    "```"
   ]
  },
  {
   "cell_type": "markdown",
   "metadata": {},
   "source": [
    "### Quake\n",
    " \n",
    " не работает и не чинится\n",
    " \n",
    "```\n",
    "Guessing quality values are on ascii 33 scale\n",
    "Processing sequences...\n",
    "..2763204 sequences processed, 276320400 bp scanned\n",
    "WARNING: Input had 560786 non-DNA (ACGT) characters who\n",
    "7167988 total distinct mers\n",
    "7167988 mers occur at least 0 times\n",
    "Traceback (most recent call last):\n",
    "  File \"../data/Quake/bin/quake.py\", line 134, in <modu\n",
    "    main()\n",
    "  File \"../data/Quake/bin/quake.py\", line 72, in main\n",
    "    cutoff = open('cutoff.txt').readline().rstrip()\n",
    "IOError: [Errno 2] No such file or directory: 'cutoff.t\n",
    "conda 4.6.14\n",
    "\n",
    "```"
   ]
  },
  {
   "cell_type": "markdown",
   "metadata": {},
   "source": [
    "### Spades\n",
    "\n",
    "```\n",
    "$ conda run bwa mem data/MG1655-K12.first400K.fasta (zcat ./spades/corrected/ecoli_400K_err_1.00.0_0.cor.fastq.gz | psub) (zcat ./spades/corrected/ecoli_400K_err_2.00.0_0.cor.fastq.gz  | ps\n",
    "ub) > ecoli_spades.sam\n",
    "$ conda run samtools sort -o ecoli_spades.bam ecoli_spades.sam\n",
    "```\n",
    "\n",
    "### Идея алгоритма\n",
    "\n",
    "Делаем pileup (выстраеваем риды под референсом и смотрим по колонкам), считаем, для каждого нуклеотида из референса, какие риды до/после Спэйдса совпали с референсом/не совпали/отсутствуют. Пересекаем множества."
   ]
  },
  {
   "cell_type": "code",
   "execution_count": 6,
   "metadata": {},
   "outputs": [
    {
     "name": "stderr",
     "output_type": "stream",
     "text": [
      "400000it [35:47, 186.24it/s]\n"
     ]
    },
    {
     "data": {
      "text/html": [
       "<table border=\"1\" class=\"dataframe\">\n",
       "  <thead>\n",
       "    <tr style=\"text-align: right;\">\n",
       "      <th></th>\n",
       "      <th>Error in corrected reads</th>\n",
       "      <th>Correct base in corrected reads</th>\n",
       "      <th>Base is absent in corrected reads</th>\n",
       "    </tr>\n",
       "  </thead>\n",
       "  <tbody>\n",
       "    <tr>\n",
       "      <th>Error in raw data</th>\n",
       "      <td>120731</td>\n",
       "      <td>261277</td>\n",
       "      <td>0</td>\n",
       "    </tr>\n",
       "    <tr>\n",
       "      <th>Correct base in raw data</th>\n",
       "      <td>255</td>\n",
       "      <td>239158504</td>\n",
       "      <td>0</td>\n",
       "    </tr>\n",
       "  </tbody>\n",
       "</table>"
      ],
      "text/plain": [
       "<IPython.core.display.HTML object>"
      ]
     },
     "metadata": {},
     "output_type": "display_data"
    }
   ],
   "source": [
    "table = pd.DataFrame.from_dict(\n",
    "                     {'Error in raw data' : [0, 0, 0],\n",
    "                      'Correct base in raw data' : [0, 0, 0],\n",
    "                     }, orient='index', \n",
    "                        columns=['Error in corrected reads', 'Correct base in corrected reads', 'Base is absent in corrected reads']\n",
    ")\n",
    "\n",
    "reference = pysam.FastaFile(\"work/data/MG1655-K12.first400K.fasta\")\n",
    "with pysam.AlignmentFile('work/ecoli.bam', 'rb') as regfile:\n",
    "    with pysam.AlignmentFile('work/ecoli_spades.bam', 'rb') as corrfile:\n",
    "        #for regcol, corrcol in tqdm(islice(zip(regfile.pileup(fastafile=reference), corrfile.pileup(fastafile=reference)),100_00)):\n",
    "        for regcol, corrcol in tqdm(zip(regfile.pileup(fastafile=reference), corrfile.pileup(fastafile=reference))):\n",
    "            try:\n",
    "                corr = {'err':set(), 'match':set(), 'absent':set()}\n",
    "                reg = {'err':set(), 'match':set()}\n",
    "\n",
    "                corrseq = corrcol.get_query_sequences(mark_matches=True)\n",
    "                corrnames = corrcol.get_query_names()\n",
    "                corrzip = zip(corrseq, corrnames)\n",
    "\n",
    "                regseq = regcol.get_query_sequences(mark_matches=True)\n",
    "                regnames = regcol.get_query_names()\n",
    "                regzip = zip(regseq, regnames)\n",
    "\n",
    "                for t, n in corrzip:\n",
    "                    if t in \",.\":\n",
    "                        corr['match'].add(n)\n",
    "                    elif t in \"*<>N\":\n",
    "                        corr['absent'].add(n)\n",
    "                    else:\n",
    "                        corr['err'].add(n)\n",
    "\n",
    "\n",
    "                for t, n in regzip:\n",
    "                    if t in \",.\":\n",
    "                        reg['match'].add(n)\n",
    "                    else:\n",
    "                        reg['err'].add(n)\n",
    "\n",
    "                table.iloc[0,0] += len(reg['err']   & corr['err'])\n",
    "                table.iloc[1,0] += len(reg['match'] & corr['err'])\n",
    "                table.iloc[0,1] += len(reg['err']   & corr['match'])\n",
    "                table.iloc[1,1] += len(reg['match'] & corr['match'])\n",
    "                table.iloc[0,2] += len(reg['err']   & (set(regseq) - corr['match'] - corr['err']))\n",
    "                table.iloc[1,2] += len(reg['match'] & (set(regseq) - corr['match'] - corr['err']))\n",
    "            except:\n",
    "                continue\n",
    "display(HTML(table.to_html()))"
   ]
  },
  {
   "cell_type": "code",
   "execution_count": null,
   "metadata": {},
   "outputs": [],
   "source": []
  }
 ],
 "metadata": {
  "kernelspec": {
   "display_name": "Python 3",
   "language": "python",
   "name": "python3"
  },
  "language_info": {
   "codemirror_mode": {
    "name": "ipython",
    "version": 3
   },
   "file_extension": ".py",
   "mimetype": "text/x-python",
   "name": "python",
   "nbconvert_exporter": "python",
   "pygments_lexer": "ipython3",
   "version": "3.7.3"
  }
 },
 "nbformat": 4,
 "nbformat_minor": 2
}
