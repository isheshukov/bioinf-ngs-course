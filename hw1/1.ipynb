{
 "cells": [
  {
   "cell_type": "markdown",
   "metadata": {},
   "source": [
    "# Задача 1"
   ]
  },
  {
   "cell_type": "code",
   "execution_count": 2,
   "metadata": {},
   "outputs": [
    {
     "name": "stdout",
     "output_type": "stream",
     "text": [
      "Mean GC: 49.52%\n"
     ]
    },
    {
     "data": {
      "image/png": "[encoded data removed]",
      "text/plain": [
       "<Figure size 432x288 with 1 Axes>"
      ]
     },
     "metadata": {
      "needs_background": "light"
     },
     "output_type": "display_data"
    }
   ],
   "source": [
    "import numpy as np\n",
    "import gzip\n",
    "import matplotlib.pyplot as plt\n",
    "from itertools import islice\n",
    "from Bio import SeqIO\n",
    "\n",
    "def seq_to_GC(s):\n",
    "    \"\"\" Returns sequences GC-content \"\"\"\n",
    "    gc_content = 0\n",
    "    for c in s:\n",
    "        if c in 'GC':\n",
    "            gc_content += 1\n",
    "    return gc_content * 100 // len(s)\n",
    "\n",
    "hist_data = list()\n",
    "err_data = list()\n",
    "\n",
    "#with gzip.open(\"data/100x.1.fastq\", \"rt\") as handle:\n",
    "for rec in islice(SeqIO.parse(\"../../data/100x.1.fastq\", \"fastq\"), 100000):\n",
    "#for rec in SeqIO.parse(\"data/test.fastq\", \"fastq\"):\n",
    "    # Zipping sequences with respective nucleotide phred quality\n",
    "    seq_qtys = zip(rec.seq, rec.letter_annotations[\"phred_quality\"])\n",
    "    \n",
    "    # Converting phred to probability of error\n",
    "    err_data.append(np.power(10, np.true_divide(np.negative(rec.letter_annotations[\"phred_quality\"]), 10) ))\n",
    "\n",
    "    # Filtering out bad nucleotides\n",
    "    qty_filtered = list(zip(*((seq, qty) for seq, qty in seq_qtys if qty > 33)))\n",
    "    if not qty_filtered:\n",
    "        continue\n",
    "\n",
    "    # Removing the sequence if there are too many bad nucleotides  \n",
    "    if (len(qty_filtered[0])/len(rec.seq) > 0.6):\n",
    "        #print(''.join(qty_filtered[0]))\n",
    "        hist_data.append(seq_to_GC(rec.seq))\n",
    "\n",
    "#print(err_data)\n",
    "print(\"Mean GC: {0:.2f}%\".format(np.mean(hist_data)))\n",
    "plt.hist(hist_data, bins=100, range=[0, 100])\n",
    "plt.xlabel(\"% GC content\")\n",
    "plt.ylabel(\"Count\")\n",
    "plt.show()"
   ]
  },
  {
   "cell_type": "markdown",
   "metadata": {},
   "source": [
    "# Задача 2"
   ]
  },
  {
   "cell_type": "code",
   "execution_count": 6,
   "metadata": {},
   "outputs": [
    {
     "data": {
      "image/png": "[encoded data removed]",
      "text/plain": [
       "<Figure size 432x288 with 1 Axes>"
      ]
     },
     "metadata": {
      "needs_background": "light"
     },
     "output_type": "display_data"
    }
   ],
   "source": [
    "err_hist = np.transpose(err_data)\n",
    "\n",
    "def err_plot(bp):\n",
    "    plt.hist(np.floor(np.multiply(err_hist[bp], 100)), bins=100, range=[0, 100])\n",
    "    plt.title(\"Probability of error distribution on bp {}\".format(bp))\n",
    "    plt.xlabel(\"% Probability of error\")\n",
    "    plt.ylabel(\"Count\")\n",
    "    plt.show()\n",
    "\n",
    "err_plot(90)"
   ]
  },
  {
   "cell_type": "markdown",
   "metadata": {},
   "source": [
    "# Задача 3\n",
    "\n",
    "[Отчёт fastqc](https://htmlpreview.github.io/?https://raw.githubusercontent.com/isheshukov/bioinf-ngs-course/master/hw1/fastqc/100x.1_fastqc.html)"
   ]
  }
 ],
 "metadata": {
  "kernelspec": {
   "display_name": "Python 3",
   "language": "python",
   "name": "python3"
  },
  "language_info": {
   "codemirror_mode": {
    "name": "ipython",
    "version": 3
   },
   "file_extension": ".py",
   "mimetype": "text/x-python",
   "name": "python",
   "nbconvert_exporter": "python",
   "pygments_lexer": "ipython3",
   "version": "3.7.2"
  }
 },
 "nbformat": 4,
 "nbformat_minor": 2
}
