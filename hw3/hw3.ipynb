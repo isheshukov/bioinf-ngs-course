{
 "cells": [
  {
   "cell_type": "markdown",
   "metadata": {},
   "source": [
    "# 0. Разобраться с minimap2"
   ]
  },
  {
   "cell_type": "markdown",
   "metadata": {},
   "source": [
    "```\n",
    "$ minimap2 -ax map-pb data/reference.fasta data/pacbio_40x.fq.gz > pacbio.sam\n",
    "[M::mm_idx_gen::0.151*0.90] collected minimizers\n",
    "[M::mm_idx_gen::0.176*1.17] sorted minimizers\n",
    "[M::main::0.176*1.17] loaded/built the index for 1 target sequence(s)\n",
    "[M::mm_mapopt_update::0.192*1.16] mid_occ = 11\n",
    "[M::mm_idx_stat] kmer size: 19; skip: 10; is_hpc: 1; #seq: 1\n",
    "[M::mm_idx_stat::0.201*1.15] distinct minimizers: 606828 (98.95% are singletons); average occurrences: 1.024; average spacing: 7.468\n",
    "[M::worker_pipeline::58.550*2.79] mapped 41447 sequences\n",
    "[M::main] Version: 2.16-r922\n",
    "[M::main] CMD: minimap2 -ax map-pb data/reference.fasta data/pacbio_40x.fq.gz\n",
    "[M::main] Real time: 58.571 sec; CPU: 163.574 sec; Peak RSS: 1.603 GB\n",
    "\n",
    "$ minimap2 -ax map-ont data/reference.fasta data/ONT_2D.fastq.gz > ont.sam\n",
    "[M::mm_idx_gen::0.160*1.02] collected minimizers\n",
    "[M::mm_idx_gen::0.200*1.40] sorted minimizers\n",
    "[M::main::0.200*1.40] loaded/built the index for 1 target sequence(s)\n",
    "[M::mm_mapopt_update::0.218*1.36] mid_occ = 11\n",
    "[M::mm_idx_stat] kmer size: 15; skip: 10; is_hpc: 0; #seq: 1\n",
    "[M::mm_idx_stat::0.231*1.34] distinct minimizers: 838533 (98.18% are singletons); average occurrences: 1.034; average spacing: 5.352\n",
    "[M::worker_pipeline::22.272*2.50] mapped 30810 sequences\n",
    "[M::main] Version: 2.16-r922\n",
    "[M::main] CMD: minimap2 -ax map-ont data/reference.fasta data/ONT_2D.fastq.gz\n",
    "[M::main] Real time: 22.287 sec; CPU: 55.640 sec; Peak RSS: 0.917 GB\n",
    "\n",
    "$ samtools flagstat ont.sam\n",
    "32103 + 0 in total (QC-passed reads + QC-failed reads)\n",
    "1072 + 0 secondary\n",
    "221 + 0 supplementary\n",
    "0 + 0 duplicates\n",
    "29565 + 0 mapped (92.09% : N/A)\n",
    "0 + 0 paired in sequencing\n",
    "0 + 0 read1\n",
    "0 + 0 read2\n",
    "0 + 0 properly paired (N/A : N/A)\n",
    "0 + 0 with itself and mate mapped\n",
    "0 + 0 singletons (N/A : N/A)\n",
    "0 + 0 with mate mapped to a different chr\n",
    "0 + 0 with mate mapped to a different chr (mapQ>=5)\n",
    "\n",
    "$ samtools flagstat pacbio.sam\n",
    "52081 + 0 in total (QC-passed reads + QC-failed reads)\n",
    "1736 + 0 secondary\n",
    "8898 + 0 supplementary\n",
    "0 + 0 duplicates\n",
    "51199 + 0 mapped (98.31% : N/A)\n",
    "0 + 0 paired in sequencing\n",
    "0 + 0 read1\n",
    "0 + 0 read2\n",
    "0 + 0 properly paired (N/A : N/A)\n",
    "0 + 0 with itself and mate mapped\n",
    "0 + 0 singletons (N/A : N/A)\n",
    "0 + 0 with mate mapped to a different chr\n",
    "0 + 0 with mate mapped to a different chr (mapQ>=5)\n",
    "```"
   ]
  },
  {
   "cell_type": "markdown",
   "metadata": {},
   "source": [
    "# 1. Статистики ридов PacBio и Oxford Nanopores.\n",
    "## Покрытие"
   ]
  },
  {
   "cell_type": "code",
   "execution_count": 2,
   "metadata": {},
   "outputs": [],
   "source": [
    "import numpy as np\n",
    "import matplotlib.pyplot as plt\n",
    "%matplotlib inline\n",
    "import pandas as pd\n",
    "import os\n",
    "import pysam\n",
    "from itertools import zip_longest, islice\n",
    "import pysamstats\n",
    "from Bio import SeqIO\n",
    "import gzip\n",
    "\n",
    "def grouper(iterable, n, fillvalue=None):\n",
    "    \"Collect data into fixed-length chunks or blocks\"\n",
    "    # grouper('ABCDEFG', 3, 'x') --> ABC DEF Gxx\"\n",
    "    args = [iter(iterable)] * n\n",
    "    return zip_longest(*args, fillvalue=fillvalue)"
   ]
  },
  {
   "cell_type": "code",
   "execution_count": 3,
   "metadata": {},
   "outputs": [
    {
     "ename": "NotImplementedError",
     "evalue": "pileup of samfiles not implemented yet",
     "output_type": "error",
     "traceback": [
      "\u001b[0;31m-----------------------------------------------\u001b[0m",
      "\u001b[0;31mNotImplementedError\u001b[0mTraceback (most recent call last)",
      "\u001b[0;32m<ipython-input-3-0caec1be5795>\u001b[0m in \u001b[0;36m<module>\u001b[0;34m\u001b[0m\n\u001b[1;32m      4\u001b[0m \u001b[0mnonzerobp\u001b[0m \u001b[0;34m=\u001b[0m \u001b[0;36m0\u001b[0m\u001b[0;34m\u001b[0m\u001b[0;34m\u001b[0m\u001b[0m\n\u001b[1;32m      5\u001b[0m \u001b[0mtlen\u001b[0m \u001b[0;34m=\u001b[0m \u001b[0;34m[\u001b[0m\u001b[0;34m]\u001b[0m\u001b[0;34m\u001b[0m\u001b[0;34m\u001b[0m\u001b[0m\n\u001b[0;32m----> 6\u001b[0;31m \u001b[0;32mfor\u001b[0m \u001b[0mpileupcolumn\u001b[0m \u001b[0;32min\u001b[0m \u001b[0mgrouper\u001b[0m\u001b[0;34m(\u001b[0m\u001b[0msamfile\u001b[0m\u001b[0;34m.\u001b[0m\u001b[0mpileup\u001b[0m\u001b[0;34m(\u001b[0m\u001b[0;34m)\u001b[0m\u001b[0;34m,\u001b[0m \u001b[0;36m10000\u001b[0m\u001b[0;34m)\u001b[0m\u001b[0;34m:\u001b[0m\u001b[0;34m\u001b[0m\u001b[0;34m\u001b[0m\u001b[0m\n\u001b[0m\u001b[1;32m      7\u001b[0m     \u001b[0mbucket\u001b[0m \u001b[0;34m=\u001b[0m \u001b[0;34m[\u001b[0m\u001b[0mx\u001b[0m\u001b[0;34m.\u001b[0m\u001b[0mnsegments\u001b[0m \u001b[0;32mfor\u001b[0m \u001b[0mx\u001b[0m \u001b[0;32min\u001b[0m \u001b[0mpileupcolumn\u001b[0m \u001b[0;32mif\u001b[0m \u001b[0mx\u001b[0m \u001b[0;34m!=\u001b[0m \u001b[0;32mNone\u001b[0m\u001b[0;34m]\u001b[0m\u001b[0;34m\u001b[0m\u001b[0;34m\u001b[0m\u001b[0m\n\u001b[1;32m      8\u001b[0m     \u001b[0mnonzerobp\u001b[0m \u001b[0;34m+=\u001b[0m \u001b[0mnp\u001b[0m\u001b[0;34m.\u001b[0m\u001b[0mcount_nonzero\u001b[0m\u001b[0;34m(\u001b[0m\u001b[0mbucket\u001b[0m\u001b[0;34m)\u001b[0m\u001b[0;34m\u001b[0m\u001b[0;34m\u001b[0m\u001b[0m\n",
      "\u001b[0;32mpysam/libcalignmentfile.pyx\u001b[0m in \u001b[0;36mpysam.libcalignmentfile.AlignmentFile.pileup\u001b[0;34m()\u001b[0m\n",
      "\u001b[0;31mNotImplementedError\u001b[0m: pileup of samfiles not implemented yet"
     ]
    }
   ],
   "source": [
    "coverages = []\n",
    "samfile = pysam.AlignmentFile(\"work/pacbio.sam\", \"rb\")\n",
    "samfilelength = samfile.lengths[0]\n",
    "nonzerobp = 0\n",
    "tlen = []\n",
    "for pileupcolumn in grouper(samfile.pileup(), 10000):\n",
    "    bucket = [x.nsegments for x in pileupcolumn if x != None]\n",
    "    nonzerobp += np.count_nonzero(bucket)\n",
    "    avg_coverage = np.mean(bucket)\n",
    "    coverages.append(avg_coverage)\n",
    "samfile.close()\n",
    "\n",
    "plt.bar(list(range(0, len(coverages))), coverages)\n",
    "plt.title(\"Pacbio\")\n",
    "plt.ylabel(\"Coverage\")\n",
    "plt.xlabel(\"Ten thousands of bp\")\n",
    "print(f\"Avg coverage {np.mean(coverages)}\")\n",
    "print(f\"Genome covered {nonzerobp / samfilelength * 100}%\")"
   ]
  },
  {
   "cell_type": "code",
   "execution_count": null,
   "metadata": {},
   "outputs": [],
   "source": [
    "coverages = []\n",
    "samfile = pysam.AlignmentFile(\"work/ont.sam\", \"rb\")\n",
    "samfilelength = samfile.lengths[0]\n",
    "nonzerobp = 0\n",
    "tlen = []\n",
    "for pileupcolumn in grouper(samfile.pileup(), 10000):\n",
    "    bucket = [x.nsegments for x in pileupcolumn if x != None]\n",
    "    nonzerobp += np.count_nonzero(bucket)\n",
    "    avg_coverage = np.mean(bucket)\n",
    "    coverages.append(avg_coverage)\n",
    "samfile.close()\n",
    "\n",
    "plt.bar(list(range(0, len(coverages))), coverages)\n",
    "plt.title(\"ONT\")\n",
    "plt.ylabel(\"Coverage\")\n",
    "plt.xlabel(\"Ten thousands of bp\")\n",
    "print(f\"Avg coverage {np.mean(coverages)}\")\n",
    "print(f\"Genome covered {nonzerobp / samfilelength * 100}%\")"
   ]
  },
  {
   "cell_type": "markdown",
   "metadata": {},
   "source": [
    "## Процент ошибок\n"
   ]
  },
  {
   "cell_type": "code",
   "execution_count": null,
   "metadata": {},
   "outputs": [],
   "source": []
  },
  {
   "cell_type": "code",
   "execution_count": null,
   "metadata": {},
   "outputs": [],
   "source": []
  },
  {
   "cell_type": "markdown",
   "metadata": {},
   "source": [
    "## Распределение типов замен\n"
   ]
  },
  {
   "cell_type": "code",
   "execution_count": null,
   "metadata": {},
   "outputs": [],
   "source": []
  },
  {
   "cell_type": "code",
   "execution_count": null,
   "metadata": {},
   "outputs": [],
   "source": []
  },
  {
   "cell_type": "markdown",
   "metadata": {},
   "source": [
    "## Распределение длин инделов\n"
   ]
  },
  {
   "cell_type": "code",
   "execution_count": null,
   "metadata": {},
   "outputs": [],
   "source": []
  },
  {
   "cell_type": "code",
   "execution_count": null,
   "metadata": {},
   "outputs": [],
   "source": []
  }
 ],
 "metadata": {
  "kernelspec": {
   "display_name": "Python 3",
   "language": "python",
   "name": "python3"
  },
  "language_info": {
   "codemirror_mode": {
    "name": "ipython",
    "version": 3
   },
   "file_extension": ".py",
   "mimetype": "text/x-python",
   "name": "python",
   "nbconvert_exporter": "python",
   "pygments_lexer": "ipython3",
   "version": "3.6.8"
  }
 },
 "nbformat": 4,
 "nbformat_minor": 2
}
